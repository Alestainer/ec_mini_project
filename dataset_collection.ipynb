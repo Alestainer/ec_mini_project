{
 "cells": [
  {
   "cell_type": "code",
   "execution_count": 50,
   "metadata": {},
   "outputs": [],
   "source": [
    "import requests\n",
    "import gc\n",
    "import pickle\n",
    "\n",
    "with open(\"api_key.txt\", \"r\") as key_file:\n",
    "    API_KEY = key_file.read().strip()"
   ]
  },
  {
   "cell_type": "code",
   "execution_count": 15,
   "metadata": {},
   "outputs": [],
   "source": [
    "def api_request_year(number):\n",
    "    resp = requests.get(\"https://api.propublica.org/congress/v1/110/senate/sessions/1/votes/\"\n",
    "                        + str(number) + \".json\", \n",
    "                        headers = {\"X-API-Key\": API_KEY})\n",
    "    if resp.status_code == 200:\n",
    "        return resp.json()\n",
    "    else:\n",
    "        return False"
   ]
  },
  {
   "cell_type": "code",
   "execution_count": 45,
   "metadata": {},
   "outputs": [
    {
     "name": "stdout",
     "output_type": "stream",
     "text": [
      "20\n",
      "40\n",
      "60\n",
      "80\n",
      "100\n",
      "120\n",
      "140\n",
      "160\n",
      "180\n",
      "200\n",
      "220\n",
      "240\n",
      "260\n",
      "280\n",
      "300\n",
      "320\n",
      "340\n",
      "360\n",
      "380\n",
      "400\n",
      "420\n",
      "440\n"
     ]
    }
   ],
   "source": [
    "req = api_request_year(1)\n",
    "\n",
    "votes_map = {}\n",
    "names = []\n",
    "\n",
    "for position in req[\"results\"][\"votes\"]['vote']['positions']:\n",
    "    votes_map[position['name']] = [position['vote_position']]\n",
    "    names.append(position['name'])\n",
    "\n",
    "for i in range(2, 443):\n",
    "    \n",
    "    if i % 100 == 0:\n",
    "        print (i)\n",
    "        \n",
    "    req = api_request_year(i)\n",
    "    \n",
    "    if req:\n",
    "        for position in req[\"results\"][\"votes\"]['vote']['positions']:\n",
    "            if position['name'] in names:\n",
    "                votes_map[position['name']].append(position['vote_position'])\n",
    "    \n",
    "    for name in names:\n",
    "        while len(votes_map[name]) < i:\n",
    "            votes_map[name].append(\"Missing\")"
   ]
  },
  {
   "cell_type": "code",
   "execution_count": 51,
   "metadata": {},
   "outputs": [],
   "source": [
    "with open(\"votes_map.pickle\", \"wb\") as handle:\n",
    "    pickle.dump(votes_map, handle, protocol = pickle.HIGHEST_PROTOCOL)"
   ]
  },
  {
   "cell_type": "code",
   "execution_count": 52,
   "metadata": {},
   "outputs": [
    {
     "name": "stdout",
     "output_type": "stream",
     "text": [
      "True\n"
     ]
    }
   ],
   "source": [
    "with open(\"votes_map.pickle\", \"rb\") as handle:\n",
    "    check = pickle.load(handle)\n",
    "\n",
    "print (check == votes_map)"
   ]
  }
 ],
 "metadata": {
  "kernelspec": {
   "display_name": "Python 3",
   "language": "python",
   "name": "python3"
  },
  "language_info": {
   "codemirror_mode": {
    "name": "ipython",
    "version": 3
   },
   "file_extension": ".py",
   "mimetype": "text/x-python",
   "name": "python",
   "nbconvert_exporter": "python",
   "pygments_lexer": "ipython3",
   "version": "3.6.1"
  }
 },
 "nbformat": 4,
 "nbformat_minor": 2
}
