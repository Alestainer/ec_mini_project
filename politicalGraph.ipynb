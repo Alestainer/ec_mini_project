{
 "cells": [
  {
   "cell_type": "code",
   "execution_count": 1,
   "metadata": {
    "collapsed": true
   },
   "outputs": [],
   "source": [
    "import networkx as nx\n",
    "import numpy as np\n",
    "import matplotlib.pyplot as plt\n",
    "import gc \n",
    "\n",
    "%matplotlib inline"
   ]
  },
  {
   "cell_type": "code",
   "execution_count": 2,
   "metadata": {
    "collapsed": true
   },
   "outputs": [],
   "source": [
    "def pretty_network_draw(G):\n",
    "    \"\"\"Draw weighted graph using standard networkx function.\"\"\"\n",
    "    elarge=[(u,v) for (u,v,d) in G.edges(data=True) if d['weight'] >0.5]\n",
    "    esmall=[(u,v) for (u,v,d) in G.edges(data=True) if d['weight'] <=0.5]\n",
    "\n",
    "    pos=nx.spring_layout(G) # positions for all nodes\n",
    "\n",
    "    # nodes\n",
    "    nx.draw_networkx_nodes(G,pos,node_size=200)\n",
    "\n",
    "    # edges\n",
    "    nx.draw_networkx_edges(G,pos,edgelist=elarge,\n",
    "                        width=6)\n",
    "    nx.draw_networkx_edges(G,pos,edgelist=esmall,\n",
    "                        width=6,alpha=0.5,edge_color='b',style='dashed')\n",
    "\n",
    "    # labels\n",
    "    nx.draw_networkx_labels(G,pos,font_size=8,font_family='sans-serif')\n",
    "\n",
    "    plt.axis('off')\n",
    "    plt.savefig(\"weighted_graph_.png\") # save as png\n",
    "    plt.show() # display"
   ]
  },
  {
   "cell_type": "code",
   "execution_count": 3,
   "metadata": {
    "collapsed": true
   },
   "outputs": [],
   "source": [
    "class politicalGraph(object):\n",
    "    \n",
    "    def __init__(self, num_votes = 500, num_nodes = 435,\n",
    "                 conform_pr = 0.5, selection_mech = \"stoch_accept\"):\n",
    "        \n",
    "        self.num_votes = num_votes\n",
    "        self.num_nodes = num_nodes\n",
    "        self.selection_mech = selection_mech\n",
    "        G = nx.Graph()\n",
    "        self.conform_pr = conform_pr\n",
    "        \n",
    "        for i in range(self.num_nodes):\n",
    "            conform = np.random.binomial(1, self.conform_pr)\n",
    "            ntype = \"conformist\" if conform else \"idealist\"\n",
    "            G.add_node(i, politician = {\"ntype\" : ntype, \"signal\" : \"A\", \"vote\" : \"A\"})\n",
    "            \n",
    "        for i in G.nodes():\n",
    "            for j in G.nodes():\n",
    "                if i != j:\n",
    "                    G.add_edge(i, j, weight = np.random.uniform(low = 0.0, high = 1.0))\n",
    "                    \n",
    "        self.graph = G\n",
    "        \n",
    "    def run(self, num_steps, verbose = False):\n",
    "        \"\"\"Runs defined steps of evolution on the initialized graph.\"\"\"\n",
    "        proportion = []\n",
    "        for i in range(num_steps):\n",
    "            self._step()\n",
    "            self._evolve()\n",
    "            if verbose:\n",
    "                proportion.append(self.idealist_proportion())\n",
    "                # print (self.idealist_proportion())\n",
    "        return proportion\n",
    "    \n",
    "    def _step(self):\n",
    "        \"\"\"One step of voting dymanics excluding the evolution process.\"\"\"\n",
    "        for i in range(self.num_votes):\n",
    "            \n",
    "            self._signal()\n",
    "            self._vote()\n",
    "            self._vote_effect()\n",
    "    \n",
    "    def draw(self):\n",
    "        \"\"\"Draws current state of the graph.\"\"\"\n",
    "        pretty_network_draw(self.graph)\n",
    "    \n",
    "    def _signal(self, prob = 0.5):\n",
    "        \"\"\"Round of signaling for nodes, initially happens randomly.\"\"\"\n",
    "        for i in self.graph.nodes():\n",
    "            self.graph.node[i]['politician']['signal'] = \"A\" if np.random.binomial(1, prob) else \"B\"\n",
    "    \n",
    "    def _calculate_vote(self, node):\n",
    "        \n",
    "        A_score = 0\n",
    "        B_score = 0\n",
    "        \n",
    "        for i in self.graph.neighbors(node):\n",
    "            if self.graph.node[i]['politician'][\"signal\"] == 'A':\n",
    "                A_score += self.graph[node][i][\"weight\"]\n",
    "\n",
    "            else:\n",
    "                B_score += self.graph[node][i][\"weight\"]\n",
    "\n",
    "        return \"A\" if A_score > B_score else \"B\"\n",
    "    \n",
    "    def idealist_proportion(self):\n",
    "        counter = 0\n",
    "        for node in self.graph.nodes():\n",
    "            if self.graph.node[node][\"politician\"][\"ntype\"] == \"idealist\":\n",
    "                counter += 1\n",
    "                \n",
    "        return counter / float(self.num_nodes)\n",
    "    \n",
    "    def _vote(self):\n",
    "        \"\"\"Voting in which nodes based on their types do the final decision\"\"\"\n",
    "        for i in self.graph.nodes():\n",
    "            if self.graph.node[i]['politician'][\"ntype\"] == \"idealist\":\n",
    "                self.graph.node[i]['politician'][\"vote\"] = self.graph.node[i]['politician'][\"signal\"]\n",
    "               \n",
    "            else:\n",
    "                self.graph.node[i]['politician'][\"vote\"] = self._calculate_vote(i)\n",
    "    \n",
    "    def _vote_effect(self):\n",
    "        \"\"\"Calculate the change in relations after the current voting.\"\"\"\n",
    "        for edge in self.graph.edges():\n",
    "            if self.graph.node[edge[0]]['politician'][\"vote\"] == self.graph.node[edge[1]]['politician'][\"vote\"]:\n",
    "                self.graph[edge[0]][edge[1]][\"weight\"] = min(1.1 * self.graph[edge[0]][edge[1]][\"weight\"], 1.0)\n",
    "            else:\n",
    "                self.graph[edge[0]][edge[1]][\"weight\"] /= 1.1\n",
    "    \n",
    "    def _fitness(self, node):\n",
    "        return sum([self.graph.adj[node][x]['weight'] if x in self.graph.adj[node].keys()\n",
    "                    else 0 for x in self.graph.nodes()])\n",
    "    \n",
    "    def _evolve(self):\n",
    "        self._mutate()\n",
    "        self._select()\n",
    "    \n",
    "    def _select(self):\n",
    "        self.conform_pr = sum([1 if self.graph.node[x]['politician'][\"ntype\"] == \"conformist\" else 0\n",
    "                          for x in self.graph.nodes()]) / self.num_nodes\n",
    "        \n",
    "        if self.selection_mech == \"stoch_accept\":\n",
    "            \n",
    "            top = max([self._fitness(node) for node in self.graph.nodes()])\n",
    "            \n",
    "            for node in self.graph.nodes():\n",
    "                if not np.random.binomial(1, self._fitness(node) / top):\n",
    "                    self.graph.remove_node(node)\n",
    "    \n",
    "    def avg_weight(self):\n",
    "        return sum([d['weight'] for (u,v,d) in self.graph.edges(data=True)]) / float(len(self.graph.edges()))\n",
    "    \n",
    "    def _mutate(self):\n",
    "        # TODO nodes added later have advantage fix\n",
    "        \n",
    "        for i in range(self.num_nodes):\n",
    "            if not self.graph.has_node(i):\n",
    "                avg_weight = self.avg_weight()\n",
    "                conform = np.random.binomial(1, self.conform_pr)\n",
    "                ntype = \"conformist\" if conform else \"idealist\"\n",
    "                self.graph.add_node(i, politician = {\"ntype\" : ntype, \"signal\" : \"A\", \"vote\" : \"A\"})\n",
    "                \n",
    "                for j in self.graph.nodes():\n",
    "                    if i != j:\n",
    "                        self.graph.add_edge(i, j, weight = avg_weight)\n",
    "  "
   ]
  },
  {
   "cell_type": "code",
   "execution_count": 35,
   "metadata": {
    "collapsed": true
   },
   "outputs": [],
   "source": [
    "congress = politicalGraph(num_nodes = 100, conform_pr=0.7)"
   ]
  },
  {
   "cell_type": "code",
   "execution_count": 20,
   "metadata": {},
   "outputs": [
    {
     "name": "stdout",
     "output_type": "stream",
     "text": [
      "0.2\n",
      "0.1\n",
      "0.2\n",
      "0.2\n",
      "0.2\n",
      "0.2\n",
      "0.2\n",
      "0.2\n",
      "0.2\n",
      "0.2\n",
      "0.2\n",
      "0.1\n",
      "0.1\n",
      "0.1\n",
      "0.2\n",
      "0.2\n",
      "0.1\n",
      "0.1\n",
      "0.1\n",
      "0.1\n"
     ]
    }
   ],
   "source": [
    "proportions = congress.run(num_steps = 20, verbose=True)"
   ]
  },
  {
   "cell_type": "code",
   "execution_count": 36,
   "metadata": {},
   "outputs": [
    {
     "data": {
      "image/png": "[encoded data removed]",
      "text/plain": [
       "<matplotlib.figure.Figure at 0x7f8f64936438>"
      ]
     },
     "metadata": {},
     "output_type": "display_data"
    }
   ],
   "source": [
    "congress.draw()"
   ]
  },
  {
   "cell_type": "code",
   "execution_count": 30,
   "metadata": {},
   "outputs": [
    {
     "data": {
      "image/png": "[encoded data removed]",
      "text/plain": [
       "<matplotlib.figure.Figure at 0x7f8f6460d048>"
      ]
     },
     "metadata": {},
     "output_type": "display_data"
    }
   ],
   "source": [
    "proportions = []\n",
    "\n",
    "for i in range(2, 32, 3):\n",
    "    senate = politicalGraph(num_votes = 160, num_nodes=100)\n",
    "    proportions.append(senate.run(i, verbose = True)[i - 1])\n",
    "    del senate\n",
    "    gc.collect()\n",
    "\n",
    "plt.plot(range(2, 32, 3), proportions)\n",
    "plt.xlabel(\"Number of epochs\")\n",
    "plt.ylabel(\"Proportion of idealists\")\n",
    "plt.savefig(\"Idealists_survivability_on_num_epochs.png\")"
   ]
  },
  {
   "cell_type": "code",
   "execution_count": 32,
   "metadata": {},
   "outputs": [
    {
     "data": {
      "image/png": "[encoded data removed]",
      "text/plain": [
       "<matplotlib.figure.Figure at 0x7f8f647ca128>"
      ]
     },
     "metadata": {},
     "output_type": "display_data"
    }
   ],
   "source": [
    "proportions = []\n",
    "\n",
    "for i in range(2, 32, 3):\n",
    "    senate = politicalGraph(num_votes = 160, num_nodes=100, conform_pr= 1 - i / float(32))\n",
    "    proportions.append(senate.run(10, verbose = True)[9])\n",
    "    del senate\n",
    "    gc.collect()\n",
    "\n",
    "plt.plot([1 - (i / float(32)) for i in range(2, 32, 3)], proportions)\n",
    "plt.xlabel(\"Initial proportion\")\n",
    "plt.ylabel(\"Final proportion of idealists\")\n",
    "plt.savefig(\"Idealists_survivability_on_initial_prop.png\")"
   ]
  },
  {
   "cell_type": "code",
   "execution_count": 34,
   "metadata": {},
   "outputs": [
    {
     "data": {
      "image/png": "[encoded data removed]",
      "text/plain": [
       "<matplotlib.figure.Figure at 0x7f8f6492a320>"
      ]
     },
     "metadata": {},
     "output_type": "display_data"
    }
   ],
   "source": [
    "proportions = []\n",
    "\n",
    "for i in range(10, 200, 10):\n",
    "    senate = politicalGraph(num_votes = 160, num_nodes=i)\n",
    "    proportions.append(senate.run(10, verbose = True)[9])\n",
    "    del senate\n",
    "    gc.collect()\n",
    "\n",
    "plt.plot(range(10, 200, 10), proportions)\n",
    "plt.xlabel(\"Population size\")\n",
    "plt.ylabel(\"Proportion of idealists\")\n",
    "plt.savefig(\"Idealists_survivability_on_pop_size.png\")"
   ]
  },
  {
   "cell_type": "code",
   "execution_count": 18,
   "metadata": {},
   "outputs": [],
   "source": [
    "class realPolGraph(politicalGraph):\n",
    "    \n",
    "    def __init__(self, votes_map, names, num_votes = 500, num_nodes = 435,\n",
    "                 conform_pr = 0.5, selection_mech = \"stoch_accept\"):\n",
    "        \n",
    "        self.num_votes = num_votes\n",
    "        self.num_nodes = num_nodes\n",
    "        self.selection_mech = selection_mech\n",
    "        G = nx.Graph()\n",
    "        self.conform_pr = conform_pr\n",
    "        self.votes_map = votes_map\n",
    "        self.names = names\n",
    "        \n",
    "        for i in range(self.num_nodes):\n",
    "            conform = np.random.binomial(1, self.conform_pr)\n",
    "            ntype = \"real\"\n",
    "            G.add_node(i, politician = {\"ntype\" : ntype, \"signal\" : \"A\", \"vote\" : \"A\"})\n",
    "            \n",
    "        for i in G.nodes():\n",
    "            for j in G.nodes():\n",
    "                if i != j:\n",
    "                    G.add_edge(i, j, weight = np.random.uniform(low = 0.0, high = 1.0))\n",
    "                    \n",
    "        self.graph = G\n",
    "        \n",
    "    def run(self, num_steps):\n",
    "        \"\"\"Runs defined steps of evolution on the initialized graph.\"\"\"\n",
    "        for i in range(num_steps):\n",
    "            self._step()\n",
    "            self._select()\n",
    "            \n",
    "            # self._mutate()\n",
    "        return self.graph.nodes()\n",
    "    \n",
    "    def _step(self):\n",
    "        \"\"\"One step of voting dymanics excluding the evolution process.\"\"\"\n",
    "        for j in range(self.num_votes):\n",
    "            \n",
    "            self._signal()\n",
    "            self._vote(j)\n",
    "            self._vote_effect()\n",
    "    \n",
    "   \n",
    "    def _vote(self, j):\n",
    "        \"\"\"Voting in which nodes based on their types do the final decision\"\"\"\n",
    "        for i in self.graph.nodes():\n",
    "            self.graph.node[i]['politician']['vote'] = self.votes_map[self.names[i]][j]\n",
    "            \n",
    "            \n",
    "    def _vote_effect(self):\n",
    "        \"\"\"Calculate the change in relations after the current voting.\"\"\"\n",
    "        for edge in self.graph.edges():\n",
    "            if self.graph.node[edge[0]]['politician'][\"vote\"] == self.graph.node[edge[1]]['politician'][\"vote\"]:\n",
    "                self.graph[edge[0]][edge[1]][\"weight\"] = min(1.05 * self.graph[edge[0]][edge[1]][\"weight\"], 1.0)\n",
    "            else:\n",
    "                self.graph[edge[0]][edge[1]][\"weight\"] /= 1.05\n",
    "                \n",
    "    def _select(self):\n",
    "        self.conform_pr = sum([1 if self.graph.node[x]['politician'][\"ntype\"] == \"conformist\" else 0\n",
    "                          for x in self.graph.nodes()]) / self.num_nodes\n",
    "        \n",
    "        if self.selection_mech == \"stoch_accept\":\n",
    "            \n",
    "            top = max([self._fitness(node) for node in self.graph.nodes()])\n",
    "            \n",
    "            for node in self.graph.nodes():\n",
    "                if not np.random.binomial(1, self._fitness(node) / top):\n",
    "                    self.graph.remove_node(node)\n",
    "        \n",
    "        elif self.selection_mech == 'ranking':\n",
    "            \n",
    "    "
   ]
  },
  {
   "cell_type": "code",
   "execution_count": 5,
   "metadata": {},
   "outputs": [],
   "source": [
    "import pickle\n",
    "\n",
    "with open(\"votes_map.pickle\", 'rb') as handle:\n",
    "    votes_map = pickle.load(handle)"
   ]
  },
  {
   "cell_type": "code",
   "execution_count": 32,
   "metadata": {},
   "outputs": [],
   "source": [
    "\n",
    "\n",
    "senate_2010 = realPolGraph(votes_map, list(votes_map.keys()), num_votes = 442, num_nodes = 100)"
   ]
  },
  {
   "cell_type": "code",
   "execution_count": 33,
   "metadata": {},
   "outputs": [],
   "source": [
    "survivors = senate_2010.run(1)"
   ]
  },
  {
   "cell_type": "code",
   "execution_count": 34,
   "metadata": {},
   "outputs": [
    {
     "data": {
      "text/plain": [
       "[1,\n",
       " 3,\n",
       " 4,\n",
       " 5,\n",
       " 7,\n",
       " 8,\n",
       " 9,\n",
       " 12,\n",
       " 15,\n",
       " 16,\n",
       " 18,\n",
       " 21,\n",
       " 22,\n",
       " 23,\n",
       " 26,\n",
       " 28,\n",
       " 30,\n",
       " 33,\n",
       " 34,\n",
       " 35,\n",
       " 37,\n",
       " 43,\n",
       " 44,\n",
       " 45,\n",
       " 46,\n",
       " 48,\n",
       " 49,\n",
       " 51,\n",
       " 52,\n",
       " 55,\n",
       " 56,\n",
       " 58,\n",
       " 61,\n",
       " 62,\n",
       " 63,\n",
       " 68,\n",
       " 69,\n",
       " 70,\n",
       " 72,\n",
       " 73,\n",
       " 77,\n",
       " 78,\n",
       " 79,\n",
       " 80,\n",
       " 82,\n",
       " 83,\n",
       " 85,\n",
       " 89,\n",
       " 93,\n",
       " 95,\n",
       " 97]"
      ]
     },
     "execution_count": 34,
     "metadata": {},
     "output_type": "execute_result"
    }
   ],
   "source": [
    "survivors"
   ]
  },
  {
   "cell_type": "code",
   "execution_count": null,
   "metadata": {
    "collapsed": true
   },
   "outputs": [],
   "source": []
  }
 ],
 "metadata": {
  "kernelspec": {
   "display_name": "Python 3",
   "language": "python",
   "name": "python3"
  },
  "language_info": {
   "codemirror_mode": {
    "name": "ipython",
    "version": 3
   },
   "file_extension": ".py",
   "mimetype": "text/x-python",
   "name": "python",
   "nbconvert_exporter": "python",
   "pygments_lexer": "ipython3",
   "version": "3.6.1"
  }
 },
 "nbformat": 4,
 "nbformat_minor": 2
}
