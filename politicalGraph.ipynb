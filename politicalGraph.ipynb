{
 "cells": [
  {
   "cell_type": "code",
   "execution_count": 2,
   "metadata": {
    "collapsed": true
   },
   "outputs": [],
   "source": [
    "import networkx as nx\n",
    "import numpy as np"
   ]
  },
  {
   "cell_type": "code",
   "execution_count": 1,
   "metadata": {
    "collapsed": true
   },
   "outputs": [],
   "source": [
    "class politician(object):\n",
    "    \n",
    "    def __init__(self, ntype, signal, vote):\n",
    "        \n",
    "        self.ntype = ntype\n",
    "        self.signal = signal\n",
    "        self.vote = vote"
   ]
  },
  {
   "cell_type": "code",
   "execution_count": 26,
   "metadata": {},
   "outputs": [
    {
     "ename": "SyntaxError",
     "evalue": "unexpected EOF while parsing (<ipython-input-26-02bf54e5b403>, line 18)",
     "output_type": "error",
     "traceback": [
      "\u001b[0;36m  File \u001b[0;32m\"<ipython-input-26-02bf54e5b403>\"\u001b[0;36m, line \u001b[0;32m18\u001b[0m\n\u001b[0;31m    def _select(self):\u001b[0m\n\u001b[0m                      ^\u001b[0m\n\u001b[0;31mSyntaxError\u001b[0m\u001b[0;31m:\u001b[0m unexpected EOF while parsing\n"
     ]
    }
   ],
   "source": [
    "class politicalGraph(object):\n",
    "    \n",
    "    def __init__(self, num_votes = 500, num_evolutions = 10, num_nodes = 435, connectivity = 0.5,\n",
    "                 conform_pr = 0.5, selection_mech = \"fit_prop\"):\n",
    "        \n",
    "        self.num_votes = num_votes\n",
    "        self.num_evolutions = num_evolutions\n",
    "        self.num_nodes = num_nodes\n",
    "        self.selection_mech = selection_mech\n",
    "        \n",
    "        G = nx.Graph()\n",
    "        \n",
    "        for i in range(self.num_nodes):\n",
    "            conform = np.random.binomial(1, conform_pr)\n",
    "            ntype = \"conformist\" if conform else \"idealist\"\n",
    "            G.add_node(i, ntype = ntype, signal = \"A\", vote = \"A\")\n",
    "            \n",
    "        for i in G.nodes():\n",
    "            for j in G.nodes():\n",
    "                if i != j:\n",
    "                    G.add_edge(i, j, weight = np.random.uniform(low = 0.0, high = 1.0))\n",
    "                    \n",
    "        self.graph = G\n",
    "        \n",
    "    def run(self):\n",
    "        \"\"\"Runs defined steps of evolution on the initialized graph.\"\"\"\n",
    "        for i in range(self.num_evolutions):\n",
    "            self._step()\n",
    "            self._evolve()\n",
    "    \n",
    "    def _step(self):\n",
    "        \"\"\"One step of voting dymanics excluding the evolution process.\"\"\"\n",
    "        for i in range(num_votes):\n",
    "            \n",
    "            self._signal()\n",
    "            self._vote()\n",
    "            self._vote_effect()\n",
    "    \n",
    "    def draw(self):\n",
    "        \"\"\"Draws current state of the graph.\"\"\"\n",
    "        nx.draw_networkx(self.graph)\n",
    "    \n",
    "    def _signal(self, prob = 0.5):\n",
    "        \"\"\"Round of signalling for nodes, initially happens randomly.\"\"\"\n",
    "        for i in self.graph.nodes():\n",
    "            i[\"signal\"] = \"A\" if np.binomial(1, prob) else \"B\"\n",
    "    \n",
    "    def _calculate_vote(self, node):\n",
    "        \n",
    "        A_score = 0\n",
    "        B_score = 0\n",
    "        \n",
    "        for i in self.graph.adj[node]:\n",
    "            if self.graph[i][\"vote\"] == A:\n",
    "                A_score += self.graph.adj[node][i][\"weight\"]\n",
    "                \n",
    "            else:\n",
    "                B_score += self.graph.adj[node][i][\"weight\"]\n",
    "                \n",
    "        return \"A\" if A_score > B_score else \"B\"\n",
    "    \n",
    "    def _vote(self):\n",
    "        \"\"\"Voting in which nodes based on their types do the final decision\"\"\"\n",
    "        for i in self.graph.nodes():\n",
    "            if i[\"ntype\"] == \"idealist\":\n",
    "                i[\"vote\"] = i[\"signal\"]\n",
    "               \n",
    "            else:\n",
    "                i[\"vote\"] = self._calculate_vote(i)\n",
    "    \n",
    "    def _vote_effect(self):\n",
    "        \"\"\"Calculate the change in relations after the current voting.\"\"\"\n",
    "        for edge in self.graph.edges():\n",
    "            if self.graph[edge[0]][\"vote\"] == self.graph[edge[1]][\"vote\"]:\n",
    "                self.graph[edge[0]][edge[1]][\"weight\"] = max(1.1 * self.graph[edge[0]][edge[1]][\"weight\"], 1.0)\n",
    "            else:\n",
    "                self.graph[edge[0]][edge[1]][\"weight\"] *= 0.9\n",
    "    \n",
    "    def _fitness(self, node):\n",
    "        return sum(self.graph.adj[node])\n",
    "    \n",
    "    def _evolve(self):\n",
    "        self._mutate()\n",
    "        self._select()\n",
    "    \n",
    "    def _select(self):\n",
    "        if self.selection_mech == \"fit_prop\":\n",
    "            \n",
    "            top = max(self.graph.nodes, key = self._fitness())\n",
    "            \n",
    "            for node in self.graph.nodes:\n",
    "                if not np.random.binomial(1, self._fitness(node) / top):\n",
    "                    self.graph.remove_node(node)\n",
    "        \n",
    "    def _mutate(self):\n",
    "        avg_weight = np.mean([sum(self.graph.adj[node]) / len(self.graph.adj[node]) for node in self.graph.nodes])\n",
    "        \n",
    "        for i in range(self.num_votes):\n",
    "            if not self.graph.nodes[i]:\n",
    "                ntype = \"conformist\" if \n",
    "                self.graph.add_node(i, ntype = )"
   ]
  },
  {
   "cell_type": "code",
   "execution_count": 57,
   "metadata": {},
   "outputs": [
    {
     "data": {
      "text/plain": [
       "0.17430103881140613"
      ]
     },
     "execution_count": 57,
     "metadata": {},
     "output_type": "execute_result"
    }
   ],
   "source": [
    "np.random.uniform(low = 0.0, high = 1.0)"
   ]
  },
  {
   "cell_type": "code",
   "execution_count": 71,
   "metadata": {
    "collapsed": true
   },
   "outputs": [],
   "source": [
    "g = nx.Graph()"
   ]
  },
  {
   "cell_type": "code",
   "execution_count": 72,
   "metadata": {
    "collapsed": true
   },
   "outputs": [],
   "source": [
    "g.add_node(1, vote = \"A\", signal = \"A\")\n",
    "g.add_node(2, vote = \"B\", signal = \"B\")"
   ]
  },
  {
   "cell_type": "code",
   "execution_count": 91,
   "metadata": {
    "collapsed": true
   },
   "outputs": [],
   "source": [
    "g.add_edge(1,2, weight = 0.5)"
   ]
  },
  {
   "cell_type": "code",
   "execution_count": 84,
   "metadata": {},
   "outputs": [
    {
     "ename": "TypeError",
     "evalue": "'method' object is not subscriptable",
     "output_type": "error",
     "traceback": [
      "\u001b[0;31m---------------------------------------------------------------------------\u001b[0m",
      "\u001b[0;31mTypeError\u001b[0m                                 Traceback (most recent call last)",
      "\u001b[0;32m<ipython-input-84-2731d413deee>\u001b[0m in \u001b[0;36m<module>\u001b[0;34m()\u001b[0m\n\u001b[1;32m      2\u001b[0m     \u001b[0;32mfor\u001b[0m \u001b[0mj\u001b[0m \u001b[0;32min\u001b[0m \u001b[0mg\u001b[0m\u001b[0;34m.\u001b[0m\u001b[0mnodes\u001b[0m\u001b[0;34m(\u001b[0m\u001b[0;34m)\u001b[0m\u001b[0;34m:\u001b[0m\u001b[0;34m\u001b[0m\u001b[0m\n\u001b[1;32m      3\u001b[0m         \u001b[0;32mif\u001b[0m \u001b[0mi\u001b[0m \u001b[0;34m!=\u001b[0m \u001b[0mj\u001b[0m\u001b[0;34m:\u001b[0m\u001b[0;34m\u001b[0m\u001b[0m\n\u001b[0;32m----> 4\u001b[0;31m             \u001b[0mprint\u001b[0m\u001b[0;34m(\u001b[0m\u001b[0mg\u001b[0m\u001b[0;34m.\u001b[0m\u001b[0medges\u001b[0m\u001b[0;34m[\u001b[0m\u001b[0mi\u001b[0m\u001b[0;34m,\u001b[0m\u001b[0mj\u001b[0m\u001b[0;34m]\u001b[0m\u001b[0;34m[\u001b[0m\u001b[0;34m\"weight\"\u001b[0m\u001b[0;34m]\u001b[0m\u001b[0;34m)\u001b[0m\u001b[0;34m\u001b[0m\u001b[0m\n\u001b[0m",
      "\u001b[0;31mTypeError\u001b[0m: 'method' object is not subscriptable"
     ]
    }
   ],
   "source": [
    "for i in g.nodes():\n",
    "    for j in g.nodes():\n",
    "        if i != j:\n",
    "            print(g.edges()[i,j][\"weight\"])"
   ]
  },
  {
   "cell_type": "code",
   "execution_count": 105,
   "metadata": {},
   "outputs": [
    {
     "data": {
      "text/plain": [
       "0.5"
      ]
     },
     "execution_count": 105,
     "metadata": {},
     "output_type": "execute_result"
    }
   ],
   "source": [
    "g[2][1][\"weight\"]"
   ]
  },
  {
   "cell_type": "code",
   "execution_count": 103,
   "metadata": {},
   "outputs": [
    {
     "name": "stdout",
     "output_type": "stream",
     "text": [
      "0.5\n"
     ]
    },
    {
     "ename": "KeyError",
     "evalue": "2",
     "output_type": "error",
     "traceback": [
      "\u001b[0;31m---------------------------------------------------------------------------\u001b[0m",
      "\u001b[0;31mKeyError\u001b[0m                                  Traceback (most recent call last)",
      "\u001b[0;32m<ipython-input-103-f619384a39dc>\u001b[0m in \u001b[0;36m<module>\u001b[0;34m()\u001b[0m\n\u001b[1;32m      1\u001b[0m \u001b[0;32mfor\u001b[0m \u001b[0mi\u001b[0m \u001b[0;32min\u001b[0m \u001b[0mg\u001b[0m\u001b[0;34m:\u001b[0m\u001b[0;34m\u001b[0m\u001b[0m\n\u001b[0;32m----> 2\u001b[0;31m     \u001b[0mprint\u001b[0m\u001b[0;34m(\u001b[0m\u001b[0mg\u001b[0m\u001b[0;34m[\u001b[0m\u001b[0mi\u001b[0m\u001b[0;34m]\u001b[0m\u001b[0;34m[\u001b[0m\u001b[0;36m2\u001b[0m\u001b[0;34m]\u001b[0m\u001b[0;34m[\u001b[0m\u001b[0;34m\"weight\"\u001b[0m\u001b[0;34m]\u001b[0m\u001b[0;34m)\u001b[0m\u001b[0;34m\u001b[0m\u001b[0m\n\u001b[0m",
      "\u001b[0;31mKeyError\u001b[0m: 2"
     ]
    }
   ],
   "source": [
    "for i in g:\n",
    "    print(g[i][2][\"weight\"])"
   ]
  },
  {
   "cell_type": "code",
   "execution_count": null,
   "metadata": {
    "collapsed": true
   },
   "outputs": [],
   "source": []
  }
 ],
 "metadata": {
  "kernelspec": {
   "display_name": "Python 3",
   "language": "python",
   "name": "python3"
  },
  "language_info": {
   "codemirror_mode": {
    "name": "ipython",
    "version": 3
   },
   "file_extension": ".py",
   "mimetype": "text/x-python",
   "name": "python",
   "nbconvert_exporter": "python",
   "pygments_lexer": "ipython3",
   "version": "3.6.1"
  }
 },
 "nbformat": 4,
 "nbformat_minor": 2
}
