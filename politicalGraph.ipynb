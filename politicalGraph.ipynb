{
 "cells": [
  {
   "cell_type": "code",
   "execution_count": 7,
   "metadata": {
    "collapsed": true
   },
   "outputs": [],
   "source": [
    "import networkx as nx\n",
    "import numpy as np\n",
    "\n",
    "%matplotlib inline"
   ]
  },
  {
   "cell_type": "code",
   "execution_count": 183,
   "metadata": {},
   "outputs": [],
   "source": [
    "class politicalGraph(object):\n",
    "    \n",
    "    def __init__(self, num_votes = 500, num_evolutions = 10, num_nodes = 435, connectivity = 0.5,\n",
    "                 conform_pr = 0.5, selection_mech = \"stoch_accept\"):\n",
    "        \n",
    "        self.num_votes = num_votes\n",
    "        self.num_evolutions = num_evolutions\n",
    "        self.num_nodes = num_nodes\n",
    "        self.selection_mech = selection_mech\n",
    "        G = nx.Graph()\n",
    "        \n",
    "        for i in range(self.num_nodes):\n",
    "            conform = np.random.binomial(1, conform_pr)\n",
    "            ntype = \"conformist\" if conform else \"idealist\"\n",
    "            G.add_node(i, politician = {\"ntype\" : ntype, \"signal\" : \"A\", \"vote\" : \"A\"})\n",
    "            \n",
    "        for i in G.nodes():\n",
    "            for j in G.nodes():\n",
    "                if i != j:\n",
    "                    G.add_edge(i, j, weight = np.random.uniform(low = 0.0, high = 1.0))\n",
    "                    \n",
    "        self.graph = G\n",
    "        \n",
    "    def run(self):\n",
    "        \"\"\"Runs defined steps of evolution on the initialized graph.\"\"\"\n",
    "        for i in range(self.num_evolutions):\n",
    "            self._step()\n",
    "            self._evolve()\n",
    "    \n",
    "    def _step(self):\n",
    "        \"\"\"One step of voting dymanics excluding the evolution process.\"\"\"\n",
    "        for i in range(self.num_votes):\n",
    "            \n",
    "            self._signal()\n",
    "            self._vote()\n",
    "            self._vote_effect()\n",
    "    \n",
    "    def draw(self):\n",
    "        \"\"\"Draws current state of the graph.\"\"\"\n",
    "        nx.draw_networkx(self.graph)\n",
    "    \n",
    "    def _signal(self, prob = 0.5):\n",
    "        \"\"\"Round of signaling for nodes, initially happens randomly.\"\"\"\n",
    "        for i in self.graph.nodes():\n",
    "            self.graph.node[i]['politician']['signal'] = \"A\" if np.random.binomial(1, prob) else \"B\"\n",
    "    \n",
    "    def _calculate_vote(self, node):\n",
    "        \n",
    "        A_score = 0\n",
    "        B_score = 0\n",
    "        \n",
    "        for i in self.graph.neighbors(node):\n",
    "            if self.graph.node[i]['politician'][\"signal\"] == 'A':\n",
    "                A_score += self.graph[node][i][\"weight\"]\n",
    "\n",
    "            else:\n",
    "                B_score += self.graph[node][i][\"weight\"]\n",
    "\n",
    "        return \"A\" if A_score > B_score else \"B\"\n",
    "    \n",
    "    def _vote(self):\n",
    "        \"\"\"Voting in which nodes based on their types do the final decision\"\"\"\n",
    "        for i in self.graph.nodes():\n",
    "            if self.graph.node[i]['politician'][\"ntype\"] == \"idealist\":\n",
    "                self.graph.node[i]['politician'][\"vote\"] = self.graph.node[i]['politician'][\"signal\"]\n",
    "               \n",
    "            else:\n",
    "                self.graph.node[i]['politician'][\"vote\"] = self._calculate_vote(i)\n",
    "    \n",
    "    def _vote_effect(self):\n",
    "        \"\"\"Calculate the change in relations after the current voting.\"\"\"\n",
    "        for edge in self.graph.edges():\n",
    "            if self.graph.node[edge[0]]['politician'][\"vote\"] == self.graph.node[edge[1]]['politician'][\"vote\"]:\n",
    "                self.graph[edge[0]][edge[1]][\"weight\"] = min(1.1 * self.graph[edge[0]][edge[1]][\"weight\"], 1.0)\n",
    "            else:\n",
    "                self.graph[edge[0]][edge[1]][\"weight\"] *= 0.9\n",
    "    \n",
    "    def _fitness(self, node):\n",
    "        return sum(self.graph.adj[node])\n",
    "    \n",
    "    def _evolve(self):\n",
    "        self._mutate()\n",
    "        self._select()\n",
    "    \n",
    "    def _select(self):\n",
    "        if self.selection_mech == \"stoch_accept\":\n",
    "            \n",
    "            top = max([self._fitness(node) for node in self.graph.nodes()])\n",
    "            \n",
    "            for node in self.graph.nodes():\n",
    "                if not np.random.binomial(1, self._fitness(node) / top):\n",
    "                    self.graph.remove_node(node)\n",
    "    \n",
    "    def avg_weight(self):\n",
    "        counter = 0\n",
    "        sum_weights = 0\n",
    "        for node in self.graph.nodes():\n",
    "            if self.graph.has_node(node):\n",
    "                counter += 1\n",
    "                sum_weights += sum(self.graph.adj[node]) / len(self.graph.adj[node])\n",
    "        return sum_weights / counter\n",
    "    \n",
    "    def _mutate(self):\n",
    "        # TODO nodes added later have advantage fix\n",
    "        conform_pr = sum([1 if self.graph.node[x]['politician'][\"ntype\"] == \"conformist\" else 0 for x in self.graph.nodes()]) / len(self.graph.nodes())\n",
    "        \n",
    "        for i in range(self.num_nodes):\n",
    "            if not self.graph.has_node(i):\n",
    "                avg_weight = self.avg_weight()\n",
    "                conform = np.random.binomial(1, conform_pr)\n",
    "                ntype = \"conformist\" if conform else \"idealist\"\n",
    "                self.graph.add_node(i, politician = {\"ntype\" : ntype, \"signal\" : \"A\", \"vote\" : \"A\"})\n",
    "                \n",
    "                for j in self.graph.nodes():\n",
    "                    if i != j:\n",
    "                        self.graph.add_edge(i, j, weight = avg_weight)\n",
    "  "
   ]
  },
  {
   "cell_type": "code",
   "execution_count": 184,
   "metadata": {},
   "outputs": [],
   "source": [
    "congress = politicalGraph(num_nodes = 20)"
   ]
  },
  {
   "cell_type": "code",
   "execution_count": 185,
   "metadata": {},
   "outputs": [],
   "source": [
    "congress.run()"
   ]
  },
  {
   "cell_type": "code",
   "execution_count": 176,
   "metadata": {},
   "outputs": [
    {
     "data": {
      "text/plain": [
       "[0, 1, 2, 3, 4, 5, 6, 7, 9, 10, 11, 12, 13, 14, 15, 16, 17, 18, 19]"
      ]
     },
     "execution_count": 176,
     "metadata": {},
     "output_type": "execute_result"
    }
   ],
   "source": [
    "congress.graph.nodes()"
   ]
  },
  {
   "cell_type": "code",
   "execution_count": 98,
   "metadata": {
    "collapsed": true
   },
   "outputs": [],
   "source": [
    "g.add_node(1, politician = politician(ntype = \"idealist\", signal = \"A\", vote = \"B\"))"
   ]
  },
  {
   "cell_type": "code",
   "execution_count": 101,
   "metadata": {},
   "outputs": [
    {
     "data": {
      "text/plain": [
       "{'politician': <__main__.politician at 0x7f7175d3a668>}"
      ]
     },
     "execution_count": 101,
     "metadata": {},
     "output_type": "execute_result"
    }
   ],
   "source": [
    "g.node[1]"
   ]
  },
  {
   "cell_type": "code",
   "execution_count": null,
   "metadata": {
    "collapsed": true
   },
   "outputs": [],
   "source": []
  }
 ],
 "metadata": {
  "kernelspec": {
   "display_name": "Python 3",
   "language": "python",
   "name": "python3"
  },
  "language_info": {
   "codemirror_mode": {
    "name": "ipython",
    "version": 3
   },
   "file_extension": ".py",
   "mimetype": "text/x-python",
   "name": "python",
   "nbconvert_exporter": "python",
   "pygments_lexer": "ipython3",
   "version": "3.6.1"
  }
 },
 "nbformat": 4,
 "nbformat_minor": 2
}
